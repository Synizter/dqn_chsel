{
 "cells": [
  {
   "cell_type": "markdown",
   "metadata": {},
   "source": [
    "## INITIALIZE\n"
   ]
  },
  {
   "cell_type": "code",
   "execution_count": 88,
   "metadata": {},
   "outputs": [
    {
     "name": "stdout",
     "output_type": "stream",
     "text": [
      "(1800, 1000, 19)\n",
      "(1620, 1000, 19) (1620, 4) (180, 1000, 19) (180, 4)\n"
     ]
    }
   ],
   "source": [
    "from tensorflow.keras.callbacks import EarlyStopping, ModelCheckpoint\n",
    "import tensorflow as tf\n",
    "from model_set import Custom1DCNN\n",
    "import capilab_dataset2\n",
    "from sklearn.model_selection import train_test_split\n",
    "from sklearn.metrics import classification_report, confusion_matrix\n",
    "import numpy as np\n",
    "import matplotlib.pyplot as plt\n",
    "import seaborn as sns\n",
    "\n",
    "label_keys = {'ball':1,'box':2,'pen':3,'no':0}\n",
    "fname = ['Datasets/Lai_JulyData.mat', 'Datasets/Takahashi_JulyData.mat', 'Datasets/Sugiyama_JulyData.mat']\n",
    "Xx, yy = capilab_dataset2.get(fname) \n",
    "print(Xx.shape)\n",
    "try:\n",
    "    X, x_test, y, y_test = train_test_split(Xx, yy, test_size = .1, stratify = yy, random_state = 420)\n",
    "    print(X.shape, y.shape, x_test.shape, y_test.shape)\n",
    "except Exception as e:\n",
    "    print(e)\n"
   ]
  },
  {
   "cell_type": "code",
   "execution_count": 4,
   "metadata": {},
   "outputs": [],
   "source": [
    "#STFU\n",
    "from silence_tensorflow import silence_tensorflow\n",
    "silence_tensorflow()"
   ]
  },
  {
   "cell_type": "code",
   "execution_count": 60,
   "metadata": {},
   "outputs": [
    {
     "name": "stdout",
     "output_type": "stream",
     "text": [
      "12.200\n"
     ]
    }
   ],
   "source": [
    "t = 12.2\n",
    "\n",
    "print('{:.3f}'.format(t))"
   ]
  },
  {
   "cell_type": "code",
   "execution_count": 89,
   "metadata": {},
   "outputs": [
    {
     "name": "stdout",
     "output_type": "stream",
     "text": [
      "Training on Fold 1 ((1458,)/(162,))\n",
      "Fold 1 : ACC 0.3722 | RECALL 0.3722 | PRECISION 0.4053 | F1 0.3697\n",
      "Training on Fold 2 ((1458,)/(162,))\n",
      "Fold 2 : ACC 0.4111 | RECALL 0.4111 | PRECISION 0.3185 | F1 0.3556\n",
      "Training on Fold 3 ((1458,)/(162,))\n",
      "Fold 3 : ACC 0.4611 | RECALL 0.4611 | PRECISION 0.4783 | F1 0.4643\n",
      "Training on Fold 4 ((1458,)/(162,))\n"
     ]
    },
    {
     "name": "stderr",
     "output_type": "stream",
     "text": [
      "/home/capiadmin/anaconda3/envs/dqn_chsel/lib/python3.8/site-packages/sklearn/metrics/_classification.py:1327: UndefinedMetricWarning: Precision is ill-defined and being set to 0.0 in labels with no predicted samples. Use `zero_division` parameter to control this behavior.\n",
      "  _warn_prf(average, modifier, msg_start, len(result))\n"
     ]
    },
    {
     "name": "stdout",
     "output_type": "stream",
     "text": [
      "Fold 4 : ACC 0.2611 | RECALL 0.2611 | PRECISION 0.1577 | F1 0.1297\n",
      "Training on Fold 5 ((1458,)/(162,))\n",
      "Fold 5 : ACC 0.4056 | RECALL 0.4056 | PRECISION 0.3815 | F1 0.3849\n",
      "Training on Fold 6 ((1458,)/(162,))\n",
      "Fold 6 : ACC 0.4056 | RECALL 0.4056 | PRECISION 0.4117 | F1 0.3969\n",
      "Training on Fold 7 ((1458,)/(162,))\n",
      "Fold 7 : ACC 0.4000 | RECALL 0.4000 | PRECISION 0.4120 | F1 0.3922\n",
      "Training on Fold 8 ((1458,)/(162,))\n",
      "Fold 8 : ACC 0.4167 | RECALL 0.4167 | PRECISION 0.4280 | F1 0.4087\n",
      "Training on Fold 9 ((1458,)/(162,))\n",
      "Fold 9 : ACC 0.3944 | RECALL 0.3944 | PRECISION 0.3868 | F1 0.3830\n",
      "Training on Fold 10 ((1458,)/(162,))\n",
      "Fold 10 : ACC 0.4111 | RECALL 0.4111 | PRECISION 0.3720 | F1 0.3813\n"
     ]
    }
   ],
   "source": [
    "from sklearn.model_selection import StratifiedKFold\n",
    "\n",
    "from sklearn.metrics import precision_score, recall_score, f1_score, accuracy_score\n",
    "kfold = StratifiedKFold(n_splits = 10, shuffle = True, random_state = 420)\n",
    "\n",
    "f1 = []\n",
    "recall = []\n",
    "prec = []\n",
    "acc = []\n",
    "verbose =False\n",
    "\n",
    "target = [1,3, 5]\n",
    "x_train = X[:,:,target]\n",
    "x_test_1 = x_test[:,:,target]\n",
    "for k, (train, val) in enumerate(kfold.split(X, np.argmax(y, axis = 1))):\n",
    "    print('Training on Fold {} ({}/{})'.format(k + 1, train.shape, val.shape))\n",
    "    \n",
    "    classifier_optimizer = tf.keras.optimizers.Adam(learning_rate = 1e-3)\n",
    "    classifier_loss = tf.keras.losses.CategoricalCrossentropy()\n",
    "    clf = Custom1DCNN(inp_shape=(X.shape[1], X.shape[2]), output_classes=y.shape[1])\n",
    "    clf.compile(optimizer = classifier_optimizer, loss= classifier_loss , metrics=['accuracy'])\n",
    "    es = tf.keras.callbacks.EarlyStopping(monitor='val_loss', min_delta=0.001, patience=9, restore_best_weights=True, verbose = False) \n",
    "    \n",
    "    clf.fit(x_train[train], y[train],\n",
    "            batch_size=32, \n",
    "            epochs = 70, \n",
    "            verbose = verbose, \n",
    "            validation_data = (x_train[val],y[val]),\n",
    "            callbacks = [es])\n",
    "    y_preds = clf.predict(x_test_1, verbose = verbose)\n",
    "    predicted = np.argmax(y_preds, axis=1)\n",
    "    ground_truth = np.argmax(y_test, axis=1)\n",
    "        \n",
    "    acc.append(accuracy_score(ground_truth, predicted))\n",
    "    f1.append(f1_score(ground_truth, predicted, average = 'macro'))\n",
    "    prec.append(precision_score(ground_truth, predicted, average = 'macro'))\n",
    "    recall.append(recall_score(ground_truth, predicted, average = 'macro'))\n",
    "    \n",
    "    print('Fold {} : ACC {:.4f} | RECALL {:.4f} | PRECISION {:.4f} | F1 {:.4f}'.format(\n",
    "        k + 1, acc[-1], recall[-1], prec[-1], f1[-1]\n",
    "    ))\n",
    "    \n",
    "\n"
   ]
  },
  {
   "cell_type": "code",
   "execution_count": 93,
   "metadata": {},
   "outputs": [],
   "source": [
    "tf.keras.backend.clear_session()"
   ]
  }
 ],
 "metadata": {
  "kernelspec": {
   "display_name": "Python 3.8.13 ('dqn_chsel')",
   "language": "python",
   "name": "python3"
  },
  "language_info": {
   "codemirror_mode": {
    "name": "ipython",
    "version": 3
   },
   "file_extension": ".py",
   "mimetype": "text/x-python",
   "name": "python",
   "nbconvert_exporter": "python",
   "pygments_lexer": "ipython3",
   "version": "3.8.13"
  },
  "orig_nbformat": 4,
  "vscode": {
   "interpreter": {
    "hash": "5c0aac840d2126579f8bffccebe9416c8b5163e86ea33b481df707f5b1db8118"
   }
  }
 },
 "nbformat": 4,
 "nbformat_minor": 2
}
